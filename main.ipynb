{
 "cells": [
  {
   "cell_type": "markdown",
   "metadata": {},
   "source": [
    "değişken türleri:\n",
    "- sayısal\n",
    "- kategorik (nominal,ordinal)\n",
    "- bağımlı = dependent = target = output= response\n",
    "- bağımsız = independent = feature = input = column = predictor = explanatory"
   ]
  },
  {
   "cell_type": "markdown",
   "metadata": {},
   "source": [
    "öğrenme türleri:\n",
    "- denetimli = supervised\n",
    "- denetimsiz = unsupervised\n",
    "- reinforcement = pekiştirmeli"
   ]
  },
  {
   "cell_type": "markdown",
   "metadata": {},
   "source": [
    "problem türleri:\n",
    "- regresyon\n",
    "- sınıflandırma"
   ]
  },
  {
   "cell_type": "markdown",
   "metadata": {},
   "source": [
    "resgresyon modellerinde başarı değerlendirme:\n",
    "- mse\n",
    "- rmse\n",
    "- mae"
   ]
  },
  {
   "cell_type": "markdown",
   "metadata": {},
   "source": [
    "sınıflandırma modellerinde başarı değerlendirme:\n",
    "- accuracy\n",
    "- precision\n",
    "- recall\n",
    "- f1\n",
    "- roc\n",
    "- log loss\n",
    "- mcc\n",
    "- cappa"
   ]
  },
  {
   "cell_type": "markdown",
   "metadata": {},
   "source": [
    "model doğrulama (validation) yöntemleri:\n",
    "- holdout\n",
    "- k fold\n",
    "    - train set'i ayır ve çapraz doğrulama yap\n",
    "    - tüm set'i ayır ve çapraz doğrulama yap"
   ]
  }
 ],
 "metadata": {
  "language_info": {
   "name": "python"
  }
 },
 "nbformat": 4,
 "nbformat_minor": 2
}
